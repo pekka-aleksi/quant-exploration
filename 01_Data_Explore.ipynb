{
 "cells": [
  {
   "cell_type": "code",
   "execution_count": 2,
   "metadata": {},
   "outputs": [],
   "source": [
    "import pandas as pd\n",
    "import numpy as np\n",
    "from matplotlib import pyplot as plt\n",
    "import glob\n",
    "\n",
    "%matplotlib inline"
   ]
  },
  {
   "cell_type": "markdown",
   "metadata": {},
   "source": [
    "# Data\n",
    "\n",
    "Source: https://www.kaggle.com/jacksoncrow/stock-market-dataset"
   ]
  },
  {
   "cell_type": "code",
   "execution_count": 3,
   "metadata": {},
   "outputs": [],
   "source": [
    "astypes = {'Volume': np.int64 }\n",
    "float32s = { t : np.float32 for t in {'Open', 'High', 'Low', 'Close','Adj Close'}}\n",
    "astypes.update(float32s)"
   ]
  },
  {
   "cell_type": "code",
   "execution_count": null,
   "metadata": {
    "scrolled": true
   },
   "outputs": [
    {
     "name": "stdout",
     "output_type": "stream",
     "text": [
      "1000 stock-market-dataset/stocks\\CETV.csv\n",
      "2000 stock-market-dataset/stocks\\FITBI.csv\n",
      "3000 stock-market-dataset/stocks\\KNSA.csv\n",
      "4000 stock-market-dataset/stocks\\OSIS.csv\n",
      "5000 stock-market-dataset/stocks\\STND.csv\n"
     ]
    }
   ],
   "source": [
    "%%time\n",
    "\n",
    "DATADIR = 'stock-market-dataset/stocks'\n",
    "\n",
    "full = list()\n",
    "\n",
    "for i, f in enumerate(glob.glob(f'{DATADIR}/*.csv'), 1):\n",
    "    \n",
    "    if i % 1000 == 0: print(i, f)    \n",
    "    df = pd.read_csv(f, parse_dates=['Date'], low_memory=False)\n",
    "    \n",
    "    symbolname = f[len(DATADIR)+1:-4]\n",
    "    \n",
    "    df['Symbol'] = symbolname\n",
    "    df = df.set_index('Symbol')\n",
    "    \n",
    "    full.append(df)\n",
    "    \n",
    "full_stocks = pd.concat(full).dropna()\n",
    "full_stocks = full_stocks.astype(astypes)\n",
    "\n",
    "full_stocks.to_csv('DATA.csv', encoding='ascii')"
   ]
  },
  {
   "cell_type": "markdown",
   "metadata": {},
   "source": [
    "# Work in Progress"
   ]
  },
  {
   "cell_type": "code",
   "execution_count": null,
   "metadata": {},
   "outputs": [],
   "source": [
    "%%time\n",
    "\n",
    "df = pd.read_csv(\"DATA.csv\", parse_dates=['Date'], low_memory=False, dtype=float32s)"
   ]
  },
  {
   "cell_type": "code",
   "execution_count": null,
   "metadata": {},
   "outputs": [],
   "source": [
    "df.head()"
   ]
  },
  {
   "cell_type": "code",
   "execution_count": null,
   "metadata": {},
   "outputs": [],
   "source": [
    "Y = df.resample('Y', on='Date')"
   ]
  },
  {
   "cell_type": "code",
   "execution_count": null,
   "metadata": {},
   "outputs": [],
   "source": [
    "uniqs_per_year = Y.agg({'Symbol': 'nunique'})\n",
    "\n",
    "uniqs_per_year.plot.bar(figsize=(16,10))"
   ]
  },
  {
   "cell_type": "code",
   "execution_count": null,
   "metadata": {},
   "outputs": [],
   "source": [
    "average_volume_per_year = Y.agg({'Volume': 'mean'})\n",
    "\n",
    "average_volume_per_year.plot.bar(figsize=(16,10))"
   ]
  },
  {
   "cell_type": "code",
   "execution_count": null,
   "metadata": {},
   "outputs": [],
   "source": [
    "average_max_min_delta_per_year = Y[['Open', 'High', 'Low']].agg({'Open': 'median', 'High': 'median', 'Low': 'median'})\n",
    "\n",
    "# why are the MEDIAN YEARLY opens categorically so low for the years 1962-1968 and 1974-1986?\n",
    "\n",
    "# thoughts: \n",
    "# - the median for all possible stocks doesn't HAVE to be between the median for the highs and lows;\n",
    "#  especially if there are not very many stocks or much of the year the stock values are 0?\n",
    "#   - but why would the open be 0 for any stock at any time?\n",
    "\n",
    "average_max_min_delta_per_year.plot(color=['green', 'orange', 'red'], figsize=(16,10))"
   ]
  }
 ],
 "metadata": {
  "kernelspec": {
   "display_name": "Python 3",
   "language": "python",
   "name": "python3"
  },
  "language_info": {
   "codemirror_mode": {
    "name": "ipython",
    "version": 3
   },
   "file_extension": ".py",
   "mimetype": "text/x-python",
   "name": "python",
   "nbconvert_exporter": "python",
   "pygments_lexer": "ipython3",
   "version": "3.8.2"
  }
 },
 "nbformat": 4,
 "nbformat_minor": 4
}
